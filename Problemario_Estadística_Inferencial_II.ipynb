{
  "nbformat": 4,
  "nbformat_minor": 0,
  "metadata": {
    "colab": {
      "provenance": [],
      "toc_visible": true,
      "authorship_tag": "ABX9TyOZi2ePvAfqK5l4C8lX42w/",
      "include_colab_link": true
    },
    "kernelspec": {
      "name": "python3",
      "display_name": "Python 3"
    },
    "language_info": {
      "name": "python"
    }
  },
  "cells": [
    {
      "cell_type": "markdown",
      "metadata": {
        "id": "view-in-github",
        "colab_type": "text"
      },
      "source": [
        "<a href=\"https://colab.research.google.com/github/DrFaus/Estadistica/blob/main/Problemario_Estad%C3%ADstica_Inferencial_II.ipynb\" target=\"_parent\"><img src=\"https://colab.research.google.com/assets/colab-badge.svg\" alt=\"Open In Colab\"/></a>"
      ]
    },
    {
      "cell_type": "markdown",
      "source": [
        "# Unidad 1. Regresión lineal simple y correlación"
      ],
      "metadata": {
        "id": "TVAzcQ4lsIje"
      }
    },
    {
      "cell_type": "markdown",
      "source": [
        "## Medidas de dispersión\n",
        "Suma de los cuadrados de las desviaciones de los valores de $X$ con respecto a su media:\n",
        "$$ S_{xx} = \\sum_{i=1}^{n} (X_i - \\bar{X})^2 $$\n",
        "Suma de los productos de las desviaciones de los valores de $X$ y $Y$ con respecto a sus medias:\n",
        "$$S_{xy} = \\sum_{i=1}^{n} (X_i - \\bar{X})(Y_i - \\bar{Y})$$\n",
        "Suma de los cuadrados de las desviaciones de los valores de $Y$ con respecto a su media:\n",
        "$$ S_{xx} = \\sum_{i=1}^{n} (Y_i - \\bar{Y})^2 $$\n"
      ],
      "metadata": {
        "id": "rh_egttcs5VI"
      }
    },
    {
      "cell_type": "markdown",
      "source": [
        "## Coeficiente de correlación y de determinación\n",
        "Coeficiente de correlación de Pearson:\n",
        "$$ r = \\frac{S_{xy}}{\\sqrt{S_{xx} \\cdot S_{yy}}} $$\n",
        "Coeficiente de determinación:\n",
        "$$ r^2 $$"
      ],
      "metadata": {
        "id": "BqCWSQNGvU22"
      }
    },
    {
      "cell_type": "markdown",
      "source": [
        "## Recta de regresión ajustada\n",
        "La regresión lineal ajustada se representa mediante estadísticos:\n",
        "$$ \\hat{Y} = b_0 + b_1 X $$\n",
        "donde $\\hat{Y}$ representa el valor de $Y$ obtenido mediante la recta de regresión ajustada (no la verdadera $Y$). Los estadísticos $b_0$ y $b_1$ se calculan de la siguiente manera:\n",
        "\n",
        "$$b_1 = \\frac{S_{xy}}{S_{xx}}$$\n",
        "\n",
        "$$ b_0 = \\bar{Y} - b_1 \\bar{X} $$"
      ],
      "metadata": {
        "id": "MTxWw-C7vjOt"
      }
    },
    {
      "cell_type": "markdown",
      "source": [
        "## Cálculo de residuales\n",
        "Residuales:\n",
        "$$e_i = Y_i - \\hat{Y}_i$$"
      ],
      "metadata": {
        "id": "Tng5HL6e2ioR"
      }
    },
    {
      "cell_type": "markdown",
      "source": [
        "## Sumas de cuadrados SS (Sum of Squares)\n",
        "Suma de los Cuadrados de los Errores:\n",
        "$$ SSE = \\sum_{i=1}^{n} (Y_i - \\hat{Y}_i)^2 = \\sum_{i=1}^n e_i^2$$\n",
        "Suma total de cuadrados:\n",
        "$$SST = \\sum_{i=1}^{n} (Y_i - \\bar{Y})^2$$\n",
        "Suma de cuadrados de regresión:\n",
        "$$SSR = \\sum_{i=1}^{n} (\\hat{Y_i} - \\bar{Y})^2$$\n",
        "- SST: Mide la variabilidad total de los datos observados.\n",
        "- SSR: Mide la variabilidad de los datos que el modelo de regresión explica.\n",
        "- SSE: Mide la variabilidad no explicada por el modelo (es decir, los residuos).\n"
      ],
      "metadata": {
        "id": "1tKbBa4T3dQH"
      }
    },
    {
      "cell_type": "markdown",
      "source": [
        "## Intervalo de confianza\n",
        "Estadístico de prueba _t_:\n",
        "$$t = \\frac{b_1}{SE(b_1)}$$\n",
        "Error estándar de $b_1$:\n",
        "$$SE(b_1) = \\frac{\\sqrt{SSE / (n-2)}}   {\\sqrt{S_{xx}} }$$\n",
        "Intervalo de confianza para $b_1$:\n",
        "$$b_1 - t_{\\alpha/2} \\cdot SE(b_1) \\lt \\beta_1 \\lt b_1 + t_{\\alpha/2} \\cdot SE(b_1)$$\n",
        "donde $n$ representa la cantidad de pares de datos."
      ],
      "metadata": {
        "id": "fL4VVE5GRLg6"
      }
    },
    {
      "cell_type": "markdown",
      "source": [
        "## Comprobación de supuestos\n",
        "Comprobar suposiciones:\n",
        "- Test de shapiro a los residuales $e_i$: Para comprobar si la distribución es normal sobre la recta.\n",
        "- Grafico $X$ vs $Y$: Para observar si los datos soportan la suposición de linealidad.\n",
        "- Gráfico de residuales: Para observar si los datos soportan la suposición de linealidad, complementario al coeficiente de correlación\n",
        "- Test de Breusch-Pagan: Para detectar heteroscedasticidad en regresion lineal"
      ],
      "metadata": {
        "id": "s61W7Msz8BsH"
      }
    },
    {
      "cell_type": "markdown",
      "source": [
        "Test de Shapiro:<br>\n",
        "`from scipy.stats import shapiro`<br>\n",
        "Después, se obtiene el valor-p:<br>\n",
        "`_, valor_p_sh = shapiro(data)`<br>\n",
        "- $H_0$: Los datos siguen una distribución normal\n",
        "- $H_1$: Los datos no siguen una distribución normal"
      ],
      "metadata": {
        "id": "IbD1iORXB5Wv"
      }
    },
    {
      "cell_type": "markdown",
      "source": [
        "Test de Breusch-Pagan:<br>\n",
        "`from statsmodels.stats.api import het_breuschpagan`<br>\n",
        "Después, se obtiene el valor-p:<br>\n",
        "`_, valor_p_bp, _, _ = het_breuschpagan(residuales, X)`\n",
        "- $H_0$: Hay homoscedasticidad\n",
        "- $H_1$: Hay heteroscedasticidad"
      ],
      "metadata": {
        "id": "b12qtYRqDWC1"
      }
    },
    {
      "cell_type": "markdown",
      "source": [
        "## ANOVA en regresión lineal\n",
        "\n",
        "| Fuente de variación | Suma de cuadrados (SS) | Grados de libertad (df) | Promedio de los cuadrados (MS) | Estadístico F |\n",
        "|---------------------|------------------------|--------------------------|--------------------------------|---------------|\n",
        "| Regresión  | $ SSR$ | $p$ | $MSR = \\frac{SSR}{p}$ | $F = \\frac{MSR}{MSE}$|\n",
        "| Error | $SSE$| $n - p - 1 $| $MSE = \\frac{SSE}{n - p - 1} $|     |\n",
        "| Total | $SST $| $n - 1$|             |        |\n",
        "\n",
        "donde $p$ es el número de parámetros para la recta de regresión ajustada (en la regresión simple $p=1$). Las hipótesis son:\n",
        "$$H_0: \\beta_1 = 0$$\n",
        "$$H_1: \\beta_1 \\ne 0 $$"
      ],
      "metadata": {
        "id": "5jtxbLDlB3zw"
      }
    },
    {
      "cell_type": "markdown",
      "source": [
        "## Problemario de la Unidad 1"
      ],
      "metadata": {
        "id": "MCDhN4YtFTGP"
      }
    },
    {
      "cell_type": "markdown",
      "source": [
        "### Problema 1\n",
        "Un profesor intenta mostrar a sus estudiantes la importancia de los exámenes cortos, aun cuando el 90% de la calificación final esté determinada por los exámenes parciales. Él cree que cuanto más altas sean las calificaciones de los exámenes cortos, más alta será la calificación final. Seleccionó una muestra aleatoria de 15 estudiantes de su clase con los siguientes datos:\n",
        "\n",
        "| Promedio de exámenes cortos | Promedio final |\n",
        "|--------------|--------------|\n",
        "| 59 | 64 |\n",
        "| 92 | 84 |\n",
        "| 72 | 77 |\n",
        "| 90 | 80 |\n",
        "| 95 | 77 |\n",
        "| 87 | 81 |\n",
        "| 89 | 80 |\n",
        "| 77 | 84 |\n",
        "| 76 | 80 |\n",
        "| 65 | 69 |\n",
        "| 97 | 83 |\n",
        "| 42 | 40 |\n",
        "| 94 | 78 |\n",
        "| 62 | 65 |\n",
        "| 91 | 90 |\n",
        "\n",
        "\n",
        "\n",
        "1.   Establesca una variable dependiente ($Y$) y una variable independiente ($X$).\n",
        "2.   Realice un diagrama de dispersión para estos datos.\n",
        "3. ¿Los datos soportan la suposición de linealidad?\n",
        "4. Calcule el coeficiente de correlación e interprete el resultado.\n",
        "5. Calcule el coeficiente de determinación e interprete el resultado.\n",
        "6. Obtenga la recta de regresión ajustada y grafíquelo sobre el gráfico de dispersión.\n",
        "7. Obtenga un intervalo de confianza del 95% para la pendiente de la recta de regresión ajustada ($b_1$)\n",
        "8. Calcule los residuales y trace un nuevo gráfico de dispersión. Comente, ¿Parece que se verifican los supuestos?\n",
        "9. Realice la prueba de Shapiro para los residuales y comente el resultado.\n",
        "10. Realice la prueba de Brausch-Pagan para los residuales y comente el resultado.\n",
        "11. Tres estudiantes sacaron 70, 75 y 84 de calificación. Según la recta de regresión ajustada, ¿cuáles son los resultados esperados para estos tres alumnos?\n",
        "12. Realice una tabla ANOVA e interprete el resultado.\n",
        "\n"
      ],
      "metadata": {
        "id": "xDXxbFV88kQo"
      }
    },
    {
      "cell_type": "code",
      "source": [
        "# 1. Establesca una variable dependiente ( Y ) y una variable independiente ( X ).\n",
        "import numpy as np\n",
        "\n",
        "X = np.array([59,92,72,90,95,87,89,77,76,65,97,42,94,62,91]) # exámenes cortos\n",
        "Y = np.array([64,84,77,80,77,81,80,84,80,69,83,40,78,65,90]) # promedio final\n",
        "\n",
        "# 3. Realice un diagrama de dispersión para estos datos.\n",
        "import matplotlib.pyplot as plt\n",
        "plt.scatter(X, Y, color = 'red')\n",
        "plt.xlabel('Exámenes cortos') # nombrar eje x\n",
        "plt.ylabel('Promedio final') # nombrar eje y\n",
        "ax = plt.gca()\n",
        "ax.spines['top'].set_visible(False)\n",
        "ax.spines['right'].set_visible(False)\n",
        "\n",
        "# 3. Realice un diagrama de dispersión para estos datos.\n",
        "# Sí\n",
        "\n",
        "# 4. Calcule el coeficiente de correlación e interprete el resultado.\n",
        "Sxx = np.sum(   (X - np.mean(X)) ** 2    )\n",
        "Sxy = np.sum(    (Y - np.mean(Y))  * (X - np.mean(X))             )\n",
        "Syy = np.sum(   (Y - np.mean(Y)   )   **   2)\n",
        "\n",
        "r = Sxy / np.sqrt(Sxx * Sxy)\n",
        "print(f'Coeficiente de correlación: {r: 0.4f} \\n')\n",
        "\n",
        "# 5. Calcule el coeficiente de determinación e interprete el resultado.\n",
        "print(f'Coeficiente de determinación: {r ** 2 : 0.4f}\\n')\n",
        "\n",
        "# 6. Obtenga la recta de regresión ajustada y grafíquelo sobre el gráfico de dispersión.\n",
        "b1 = Sxy / Sxx\n",
        "b0 = np.mean(Y) - b1 * np.mean(X)\n",
        "\n",
        "fun = lambda x: b1 * x + b0  # crea una función para la regresión lineal ajustada\n",
        "\n",
        "Yc = fun(X)\n",
        "\n",
        "plt.plot(X, Yc, color = 'black', linestyle = '--')\n",
        "\n",
        "# 7. Obtenga un intervalo de confianza del 95% para la pendiente de la recta de regresión ajustada ( b1 )\n",
        "nivel_de_significancia = 0.05\n",
        "from scipy.stats import t\n",
        "T = t.ppf(1 - nivel_de_significancia / 2, df = X.size - 2)\n",
        "se_b1 = np.sqrt(np.sum((Y - Yc) ** 2) / (Y.size - 2)) / np.sqrt(Sxx)\n",
        "confianza_b1 = b1 - T * se_b1, b1 + T * se_b1\n",
        "print(f'intervalo de confianza de {1 - nivel_de_significancia: 0.0%}')\n",
        "print(f'{confianza_b1[0] : 0.4f} < b1 < {confianza_b1[1] : 0.4f} \\n')\n",
        "\n",
        "# 8. Calcule los residuales y trace un nuevo gráfico de dispersión. Comente, ¿Parece que se verifican los supuestos?\n",
        "plt.figure()\n",
        "residuales = Y - Yc\n",
        "plt.scatter(X, residuales, color = 'blue')\n",
        "plt.xlabel('Exámenes cortos')\n",
        "plt.ylabel('Residuales')\n",
        "ax = plt.gca()\n",
        "ax.spines['top'].set_visible(False)\n",
        "ax.spines['right'].set_visible(False)\n",
        "plt.axhline(y = 0, color = 'gray', linestyle = '--')\n",
        "\n",
        "# 9. Realice la prueba de Shapiro para los residuales y comente el resultado.\n",
        "from scipy.stats import shapiro\n",
        "_, valor_p_sh = shapiro(residuales)\n",
        "print(f'valor-p para shapiro: {valor_p_sh: 0.4f}\\n')\n",
        "\n",
        "# 11. Tres estudiantes sacaron 70, 75 y 84 de calificación. Según la recta de\n",
        "# regresión ajustada, ¿cuáles son los resultados esperados para estos tres alumnos?\n",
        "print(f'Para x = 70, y = {fun(70): 0.0f}')\n",
        "print(f'Para x = 75, y = {fun(75): 0.0f}')\n",
        "print(f'Para x = 84, y = {fun(84): 0.0f}\\n')\n",
        "\n",
        "# 12. Realice una tabla ANOVA e interprete el resultado.\n",
        "ssr = np.sum((Yc - np.mean(Y)) ** 2)\n",
        "sse = np.sum(residuales ** 2)\n",
        "sst = ssr + sse\n",
        "df_reg = 1\n",
        "df_res = X.size - 2\n",
        "msr = ssr/ df_reg\n",
        "mse = sse / df_res\n",
        "F = msr / mse\n",
        "\n",
        "from scipy.stats import f\n",
        "valor_p = 1 - f.cdf(F, df_reg, df_res)\n",
        "\n",
        "import io\n",
        "import pandas as pd\n",
        "\n",
        "anova = pd.read_csv(io.StringIO(f'''\n",
        "Tratamiento, {df_reg}, {ssr: 0.4f}, {msr: 0.4f}, {F: 0.4f}, {valor_p: 0.4f}\n",
        "Error, {df_res: 0.4f}, {sse: 0.4f}, {mse: 0.4f},,\n",
        "Total, {df_reg + df_res}, {sst: 0.4f},,\n",
        "'''), names = ['Fuente de variación', 'Grados de libertad', 'Suma de cuadrados', 'Cuadrados medios', 'F', 'valor-p'])\n",
        "anova\n",
        "\n"
      ],
      "metadata": {
        "id": "6e2t8OlC337R",
        "colab": {
          "base_uri": "https://localhost:8080/",
          "height": 1000
        },
        "outputId": "ed053b42-68de-48a4-8132-9f9ebf8a29b7"
      },
      "execution_count": 44,
      "outputs": [
        {
          "output_type": "stream",
          "name": "stdout",
          "text": [
            "Coeficiente de correlación:  0.8020 \n",
            "\n",
            "Coeficiente de determinación:  0.6432\n",
            "\n",
            "intervalo de confianza de  95%\n",
            " 0.4192 < b1 <  0.8671 \n",
            "\n",
            "valor-p para shapiro:  0.9018\n",
            "\n",
            "Para x = 70, y =  70\n",
            "Para x = 75, y =  73\n",
            "Para x = 84, y =  79\n",
            "\n"
          ]
        },
        {
          "output_type": "execute_result",
          "data": {
            "text/plain": [
              "  Fuente de variación  Grados de libertad  Suma de cuadrados  \\\n",
              "0         Tratamiento                 1.0          1538.2290   \n",
              "1               Error                13.0           519.5044   \n",
              "2               Total                14.0          2057.7333   \n",
              "\n",
              "   Cuadrados medios        F  valor-p  \n",
              "0         1538.2290  38.4924      0.0  \n",
              "1           39.9619      NaN      NaN  \n",
              "2               NaN      NaN      NaN  "
            ],
            "text/html": [
              "\n",
              "  <div id=\"df-539b76cf-70a3-4282-812b-aabda8de6234\" class=\"colab-df-container\">\n",
              "    <div>\n",
              "<style scoped>\n",
              "    .dataframe tbody tr th:only-of-type {\n",
              "        vertical-align: middle;\n",
              "    }\n",
              "\n",
              "    .dataframe tbody tr th {\n",
              "        vertical-align: top;\n",
              "    }\n",
              "\n",
              "    .dataframe thead th {\n",
              "        text-align: right;\n",
              "    }\n",
              "</style>\n",
              "<table border=\"1\" class=\"dataframe\">\n",
              "  <thead>\n",
              "    <tr style=\"text-align: right;\">\n",
              "      <th></th>\n",
              "      <th>Fuente de variación</th>\n",
              "      <th>Grados de libertad</th>\n",
              "      <th>Suma de cuadrados</th>\n",
              "      <th>Cuadrados medios</th>\n",
              "      <th>F</th>\n",
              "      <th>valor-p</th>\n",
              "    </tr>\n",
              "  </thead>\n",
              "  <tbody>\n",
              "    <tr>\n",
              "      <th>0</th>\n",
              "      <td>Tratamiento</td>\n",
              "      <td>1.0</td>\n",
              "      <td>1538.2290</td>\n",
              "      <td>1538.2290</td>\n",
              "      <td>38.4924</td>\n",
              "      <td>0.0</td>\n",
              "    </tr>\n",
              "    <tr>\n",
              "      <th>1</th>\n",
              "      <td>Error</td>\n",
              "      <td>13.0</td>\n",
              "      <td>519.5044</td>\n",
              "      <td>39.9619</td>\n",
              "      <td>NaN</td>\n",
              "      <td>NaN</td>\n",
              "    </tr>\n",
              "    <tr>\n",
              "      <th>2</th>\n",
              "      <td>Total</td>\n",
              "      <td>14.0</td>\n",
              "      <td>2057.7333</td>\n",
              "      <td>NaN</td>\n",
              "      <td>NaN</td>\n",
              "      <td>NaN</td>\n",
              "    </tr>\n",
              "  </tbody>\n",
              "</table>\n",
              "</div>\n",
              "    <div class=\"colab-df-buttons\">\n",
              "\n",
              "  <div class=\"colab-df-container\">\n",
              "    <button class=\"colab-df-convert\" onclick=\"convertToInteractive('df-539b76cf-70a3-4282-812b-aabda8de6234')\"\n",
              "            title=\"Convert this dataframe to an interactive table.\"\n",
              "            style=\"display:none;\">\n",
              "\n",
              "  <svg xmlns=\"http://www.w3.org/2000/svg\" height=\"24px\" viewBox=\"0 -960 960 960\">\n",
              "    <path d=\"M120-120v-720h720v720H120Zm60-500h600v-160H180v160Zm220 220h160v-160H400v160Zm0 220h160v-160H400v160ZM180-400h160v-160H180v160Zm440 0h160v-160H620v160ZM180-180h160v-160H180v160Zm440 0h160v-160H620v160Z\"/>\n",
              "  </svg>\n",
              "    </button>\n",
              "\n",
              "  <style>\n",
              "    .colab-df-container {\n",
              "      display:flex;\n",
              "      gap: 12px;\n",
              "    }\n",
              "\n",
              "    .colab-df-convert {\n",
              "      background-color: #E8F0FE;\n",
              "      border: none;\n",
              "      border-radius: 50%;\n",
              "      cursor: pointer;\n",
              "      display: none;\n",
              "      fill: #1967D2;\n",
              "      height: 32px;\n",
              "      padding: 0 0 0 0;\n",
              "      width: 32px;\n",
              "    }\n",
              "\n",
              "    .colab-df-convert:hover {\n",
              "      background-color: #E2EBFA;\n",
              "      box-shadow: 0px 1px 2px rgba(60, 64, 67, 0.3), 0px 1px 3px 1px rgba(60, 64, 67, 0.15);\n",
              "      fill: #174EA6;\n",
              "    }\n",
              "\n",
              "    .colab-df-buttons div {\n",
              "      margin-bottom: 4px;\n",
              "    }\n",
              "\n",
              "    [theme=dark] .colab-df-convert {\n",
              "      background-color: #3B4455;\n",
              "      fill: #D2E3FC;\n",
              "    }\n",
              "\n",
              "    [theme=dark] .colab-df-convert:hover {\n",
              "      background-color: #434B5C;\n",
              "      box-shadow: 0px 1px 3px 1px rgba(0, 0, 0, 0.15);\n",
              "      filter: drop-shadow(0px 1px 2px rgba(0, 0, 0, 0.3));\n",
              "      fill: #FFFFFF;\n",
              "    }\n",
              "  </style>\n",
              "\n",
              "    <script>\n",
              "      const buttonEl =\n",
              "        document.querySelector('#df-539b76cf-70a3-4282-812b-aabda8de6234 button.colab-df-convert');\n",
              "      buttonEl.style.display =\n",
              "        google.colab.kernel.accessAllowed ? 'block' : 'none';\n",
              "\n",
              "      async function convertToInteractive(key) {\n",
              "        const element = document.querySelector('#df-539b76cf-70a3-4282-812b-aabda8de6234');\n",
              "        const dataTable =\n",
              "          await google.colab.kernel.invokeFunction('convertToInteractive',\n",
              "                                                    [key], {});\n",
              "        if (!dataTable) return;\n",
              "\n",
              "        const docLinkHtml = 'Like what you see? Visit the ' +\n",
              "          '<a target=\"_blank\" href=https://colab.research.google.com/notebooks/data_table.ipynb>data table notebook</a>'\n",
              "          + ' to learn more about interactive tables.';\n",
              "        element.innerHTML = '';\n",
              "        dataTable['output_type'] = 'display_data';\n",
              "        await google.colab.output.renderOutput(dataTable, element);\n",
              "        const docLink = document.createElement('div');\n",
              "        docLink.innerHTML = docLinkHtml;\n",
              "        element.appendChild(docLink);\n",
              "      }\n",
              "    </script>\n",
              "  </div>\n",
              "\n",
              "\n",
              "<div id=\"df-9c7ebcbe-9066-4bd5-903a-f1a2b18e0041\">\n",
              "  <button class=\"colab-df-quickchart\" onclick=\"quickchart('df-9c7ebcbe-9066-4bd5-903a-f1a2b18e0041')\"\n",
              "            title=\"Suggest charts\"\n",
              "            style=\"display:none;\">\n",
              "\n",
              "<svg xmlns=\"http://www.w3.org/2000/svg\" height=\"24px\"viewBox=\"0 0 24 24\"\n",
              "     width=\"24px\">\n",
              "    <g>\n",
              "        <path d=\"M19 3H5c-1.1 0-2 .9-2 2v14c0 1.1.9 2 2 2h14c1.1 0 2-.9 2-2V5c0-1.1-.9-2-2-2zM9 17H7v-7h2v7zm4 0h-2V7h2v10zm4 0h-2v-4h2v4z\"/>\n",
              "    </g>\n",
              "</svg>\n",
              "  </button>\n",
              "\n",
              "<style>\n",
              "  .colab-df-quickchart {\n",
              "      --bg-color: #E8F0FE;\n",
              "      --fill-color: #1967D2;\n",
              "      --hover-bg-color: #E2EBFA;\n",
              "      --hover-fill-color: #174EA6;\n",
              "      --disabled-fill-color: #AAA;\n",
              "      --disabled-bg-color: #DDD;\n",
              "  }\n",
              "\n",
              "  [theme=dark] .colab-df-quickchart {\n",
              "      --bg-color: #3B4455;\n",
              "      --fill-color: #D2E3FC;\n",
              "      --hover-bg-color: #434B5C;\n",
              "      --hover-fill-color: #FFFFFF;\n",
              "      --disabled-bg-color: #3B4455;\n",
              "      --disabled-fill-color: #666;\n",
              "  }\n",
              "\n",
              "  .colab-df-quickchart {\n",
              "    background-color: var(--bg-color);\n",
              "    border: none;\n",
              "    border-radius: 50%;\n",
              "    cursor: pointer;\n",
              "    display: none;\n",
              "    fill: var(--fill-color);\n",
              "    height: 32px;\n",
              "    padding: 0;\n",
              "    width: 32px;\n",
              "  }\n",
              "\n",
              "  .colab-df-quickchart:hover {\n",
              "    background-color: var(--hover-bg-color);\n",
              "    box-shadow: 0 1px 2px rgba(60, 64, 67, 0.3), 0 1px 3px 1px rgba(60, 64, 67, 0.15);\n",
              "    fill: var(--button-hover-fill-color);\n",
              "  }\n",
              "\n",
              "  .colab-df-quickchart-complete:disabled,\n",
              "  .colab-df-quickchart-complete:disabled:hover {\n",
              "    background-color: var(--disabled-bg-color);\n",
              "    fill: var(--disabled-fill-color);\n",
              "    box-shadow: none;\n",
              "  }\n",
              "\n",
              "  .colab-df-spinner {\n",
              "    border: 2px solid var(--fill-color);\n",
              "    border-color: transparent;\n",
              "    border-bottom-color: var(--fill-color);\n",
              "    animation:\n",
              "      spin 1s steps(1) infinite;\n",
              "  }\n",
              "\n",
              "  @keyframes spin {\n",
              "    0% {\n",
              "      border-color: transparent;\n",
              "      border-bottom-color: var(--fill-color);\n",
              "      border-left-color: var(--fill-color);\n",
              "    }\n",
              "    20% {\n",
              "      border-color: transparent;\n",
              "      border-left-color: var(--fill-color);\n",
              "      border-top-color: var(--fill-color);\n",
              "    }\n",
              "    30% {\n",
              "      border-color: transparent;\n",
              "      border-left-color: var(--fill-color);\n",
              "      border-top-color: var(--fill-color);\n",
              "      border-right-color: var(--fill-color);\n",
              "    }\n",
              "    40% {\n",
              "      border-color: transparent;\n",
              "      border-right-color: var(--fill-color);\n",
              "      border-top-color: var(--fill-color);\n",
              "    }\n",
              "    60% {\n",
              "      border-color: transparent;\n",
              "      border-right-color: var(--fill-color);\n",
              "    }\n",
              "    80% {\n",
              "      border-color: transparent;\n",
              "      border-right-color: var(--fill-color);\n",
              "      border-bottom-color: var(--fill-color);\n",
              "    }\n",
              "    90% {\n",
              "      border-color: transparent;\n",
              "      border-bottom-color: var(--fill-color);\n",
              "    }\n",
              "  }\n",
              "</style>\n",
              "\n",
              "  <script>\n",
              "    async function quickchart(key) {\n",
              "      const quickchartButtonEl =\n",
              "        document.querySelector('#' + key + ' button');\n",
              "      quickchartButtonEl.disabled = true;  // To prevent multiple clicks.\n",
              "      quickchartButtonEl.classList.add('colab-df-spinner');\n",
              "      try {\n",
              "        const charts = await google.colab.kernel.invokeFunction(\n",
              "            'suggestCharts', [key], {});\n",
              "      } catch (error) {\n",
              "        console.error('Error during call to suggestCharts:', error);\n",
              "      }\n",
              "      quickchartButtonEl.classList.remove('colab-df-spinner');\n",
              "      quickchartButtonEl.classList.add('colab-df-quickchart-complete');\n",
              "    }\n",
              "    (() => {\n",
              "      let quickchartButtonEl =\n",
              "        document.querySelector('#df-9c7ebcbe-9066-4bd5-903a-f1a2b18e0041 button');\n",
              "      quickchartButtonEl.style.display =\n",
              "        google.colab.kernel.accessAllowed ? 'block' : 'none';\n",
              "    })();\n",
              "  </script>\n",
              "</div>\n",
              "\n",
              "  <div id=\"id_269333b8-29ad-416c-b18a-f9f5a5495dca\">\n",
              "    <style>\n",
              "      .colab-df-generate {\n",
              "        background-color: #E8F0FE;\n",
              "        border: none;\n",
              "        border-radius: 50%;\n",
              "        cursor: pointer;\n",
              "        display: none;\n",
              "        fill: #1967D2;\n",
              "        height: 32px;\n",
              "        padding: 0 0 0 0;\n",
              "        width: 32px;\n",
              "      }\n",
              "\n",
              "      .colab-df-generate:hover {\n",
              "        background-color: #E2EBFA;\n",
              "        box-shadow: 0px 1px 2px rgba(60, 64, 67, 0.3), 0px 1px 3px 1px rgba(60, 64, 67, 0.15);\n",
              "        fill: #174EA6;\n",
              "      }\n",
              "\n",
              "      [theme=dark] .colab-df-generate {\n",
              "        background-color: #3B4455;\n",
              "        fill: #D2E3FC;\n",
              "      }\n",
              "\n",
              "      [theme=dark] .colab-df-generate:hover {\n",
              "        background-color: #434B5C;\n",
              "        box-shadow: 0px 1px 3px 1px rgba(0, 0, 0, 0.15);\n",
              "        filter: drop-shadow(0px 1px 2px rgba(0, 0, 0, 0.3));\n",
              "        fill: #FFFFFF;\n",
              "      }\n",
              "    </style>\n",
              "    <button class=\"colab-df-generate\" onclick=\"generateWithVariable('anova')\"\n",
              "            title=\"Generate code using this dataframe.\"\n",
              "            style=\"display:none;\">\n",
              "\n",
              "  <svg xmlns=\"http://www.w3.org/2000/svg\" height=\"24px\"viewBox=\"0 0 24 24\"\n",
              "       width=\"24px\">\n",
              "    <path d=\"M7,19H8.4L18.45,9,17,7.55,7,17.6ZM5,21V16.75L18.45,3.32a2,2,0,0,1,2.83,0l1.4,1.43a1.91,1.91,0,0,1,.58,1.4,1.91,1.91,0,0,1-.58,1.4L9.25,21ZM18.45,9,17,7.55Zm-12,3A5.31,5.31,0,0,0,4.9,8.1,5.31,5.31,0,0,0,1,6.5,5.31,5.31,0,0,0,4.9,4.9,5.31,5.31,0,0,0,6.5,1,5.31,5.31,0,0,0,8.1,4.9,5.31,5.31,0,0,0,12,6.5,5.46,5.46,0,0,0,6.5,12Z\"/>\n",
              "  </svg>\n",
              "    </button>\n",
              "    <script>\n",
              "      (() => {\n",
              "      const buttonEl =\n",
              "        document.querySelector('#id_269333b8-29ad-416c-b18a-f9f5a5495dca button.colab-df-generate');\n",
              "      buttonEl.style.display =\n",
              "        google.colab.kernel.accessAllowed ? 'block' : 'none';\n",
              "\n",
              "      buttonEl.onclick = () => {\n",
              "        google.colab.notebook.generateWithVariable('anova');\n",
              "      }\n",
              "      })();\n",
              "    </script>\n",
              "  </div>\n",
              "\n",
              "    </div>\n",
              "  </div>\n"
            ],
            "application/vnd.google.colaboratory.intrinsic+json": {
              "type": "dataframe",
              "variable_name": "anova",
              "summary": "{\n  \"name\": \"anova\",\n  \"rows\": 3,\n  \"fields\": [\n    {\n      \"column\": \"Fuente de variaci\\u00f3n\",\n      \"properties\": {\n        \"dtype\": \"string\",\n        \"num_unique_values\": 3,\n        \"samples\": [\n          \"Tratamiento\",\n          \"Error\",\n          \"Total\"\n        ],\n        \"semantic_type\": \"\",\n        \"description\": \"\"\n      }\n    },\n    {\n      \"column\": \"Grados de libertad\",\n      \"properties\": {\n        \"dtype\": \"number\",\n        \"std\": 7.234178138070235,\n        \"min\": 1.0,\n        \"max\": 14.0,\n        \"num_unique_values\": 3,\n        \"samples\": [\n          1.0,\n          13.0,\n          14.0\n        ],\n        \"semantic_type\": \"\",\n        \"description\": \"\"\n      }\n    },\n    {\n      \"column\": \"Suma de cuadrados\",\n      \"properties\": {\n        \"dtype\": \"number\",\n        \"std\": 782.4994863852265,\n        \"min\": 519.5044,\n        \"max\": 2057.7333,\n        \"num_unique_values\": 3,\n        \"samples\": [\n          1538.229,\n          519.5044,\n          2057.7333\n        ],\n        \"semantic_type\": \"\",\n        \"description\": \"\"\n      }\n    },\n    {\n      \"column\": \"Cuadrados medios\",\n      \"properties\": {\n        \"dtype\": \"number\",\n        \"std\": 1059.434826438703,\n        \"min\": 39.9619,\n        \"max\": 1538.229,\n        \"num_unique_values\": 2,\n        \"samples\": [\n          39.9619,\n          1538.229\n        ],\n        \"semantic_type\": \"\",\n        \"description\": \"\"\n      }\n    },\n    {\n      \"column\": \"F\",\n      \"properties\": {\n        \"dtype\": \"number\",\n        \"std\": null,\n        \"min\": 38.4924,\n        \"max\": 38.4924,\n        \"num_unique_values\": 1,\n        \"samples\": [\n          38.4924\n        ],\n        \"semantic_type\": \"\",\n        \"description\": \"\"\n      }\n    },\n    {\n      \"column\": \"valor-p\",\n      \"properties\": {\n        \"dtype\": \"number\",\n        \"std\": null,\n        \"min\": 0.0,\n        \"max\": 0.0,\n        \"num_unique_values\": 1,\n        \"samples\": [\n          0.0\n        ],\n        \"semantic_type\": \"\",\n        \"description\": \"\"\n      }\n    }\n  ]\n}"
            }
          },
          "metadata": {},
          "execution_count": 44
        },
        {
          "output_type": "display_data",
          "data": {
            "text/plain": [
              "<Figure size 640x480 with 1 Axes>"
            ],
            "image/png": "[encoded data removed]"
          },
          "metadata": {}
        },
        {
          "output_type": "display_data",
          "data": {
            "text/plain": [
              "<Figure size 640x480 with 1 Axes>"
            ],
            "image/png": "[encoded data removed]"
          },
          "metadata": {}
        }
      ]
    },
    {
      "cell_type": "code",
      "source": [
        "fun(50)"
      ],
      "metadata": {
        "colab": {
          "base_uri": "https://localhost:8080/"
        },
        "id": "0T4HGuFSwZMl",
        "outputId": "42a498ae-f23e-40c3-a455-60bfc0045e5a"
      },
      "execution_count": 18,
      "outputs": [
        {
          "output_type": "execute_result",
          "data": {
            "text/plain": [
              "56.68581468732071"
            ]
          },
          "metadata": {},
          "execution_count": 18
        }
      ]
    },
    {
      "cell_type": "markdown",
      "source": [
        "### Problema 2\n",
        "William Hawkins, vicepresidente de personal de la International Motors, trabaja en la relación entre el salario de un trabajador y el porcentaje de ausentismo. Hawkins dividió el intervalo de salarios de International en 12 grados o niveles (1 es el menor grado, 12 el más alto) y después muestreó aleatoriamente a un grupo de trabajadores. Determinó el grado de salario de cada trabajador y el número de días que ese empleado había faltado en los últimos 3 años.\n",
        "\n",
        "| Categoría de salario | 11 | 10 | 8  | 5  | 9  | 7  | 3  |\n",
        "|----------------------|----|----|----|----|----|----|----|\n",
        "| Ausencias           | 18 | 17 | 29 | 36 | 11 | 28 | 35 |\n",
        "\n",
        "| Categoría de salario | 11 | 8  | 7  | 2  | 9  | 8  | 3  |\n",
        "|----------------------|----|----|----|----|----|----|----|\n",
        "| Ausencias           | 14 | 20 | 32 | 39 | 16 | 31 | 40 |\n",
        "\n",
        "1.   Establesca una variable dependiente ($Y$) y una variable independiente ($X$).\n",
        "2.   Realice un diagrama de dispersión para estos datos.\n",
        "3. ¿Los datos soportan la suposición de linealidad?\n",
        "4. Calcule el coeficiente de correlación e interprete el resultado.\n",
        "5. Calcule el coeficiente de determinación e interprete el resultado.\n",
        "6. Obtenga la recta de regresión ajustada y grafíquelo sobre el gráfico de dispersión.\n",
        "7. Obtenga un intervalo de confianza del 95% para la pendiente de la recta de regresión ajustada ($b_1$)\n",
        "8. Calcule los residuales y trace un nuevo gráfico de dispersión. Comente, ¿Parece que se verifican los supuestos?\n",
        "9. Realice la prueba de Shapiro para los residuales y comente el resultado.\n",
        "10. Realice la prueba de Brausch-Pagan para los residuales y comente el resultado.\n",
        "11. Utiliza la recta de regresión para interpolar dos valores y extrapolar uno. Comenta estos resultados.\n",
        "12. Realice una tabla ANOVA e interprete el resultado."
      ],
      "metadata": {
        "id": "xgzyiByuTttS"
      }
    },
    {
      "cell_type": "code",
      "source": [],
      "metadata": {
        "id": "sYLS_Iu6K1sF"
      },
      "execution_count": null,
      "outputs": []
    },
    {
      "cell_type": "markdown",
      "source": [
        "### Problema 3\n",
        "A menudo, quienes hacen la contabilidad de costos estiman los gastos generales con base en el nivel de producción. En Standard Knitting Co. han reunido información acerca de los gastos generales y las unidades producidas en diferentes plantas.\n",
        "\n",
        "| Gastos generales | 191 | 170 | 272 | 155 | 280 | 173 | 234 | 116 | 153 | 178 |\n",
        "|------------------|-----|-----|-----|-----|-----|-----|-----|-----|-----|-----|\n",
        "| Unidades        |  40 |  42 |  53 |  35 |  56 |  39 |  48 |  30 |  37 |  40 |\n",
        "\n",
        "1.   Establesca una variable dependiente ($Y$) y una variable independiente ($X$).\n",
        "2.   Realice un diagrama de dispersión para estos datos.\n",
        "3. ¿Los datos soportan la suposición de linealidad?\n",
        "4. Calcule el coeficiente de correlación e interprete el resultado.\n",
        "5. Calcule el coeficiente de determinación e interprete el resultado.\n",
        "6. Obtenga la recta de regresión ajustada y grafíquelo sobre el gráfico de dispersión.\n",
        "7. Obtenga un intervalo de confianza del 95% para la pendiente de la recta de regresión ajustada ($b_1$)\n",
        "8. Calcule los residuales y trace un nuevo gráfico de dispersión. Comente, ¿Parece que se verifican los supuestos?\n",
        "9. Realice la prueba de Shapiro para los residuales y comente el resultado.\n",
        "10. Realice la prueba de Brausch-Pagan para los residuales y comente el resultado.\n",
        "11. Utiliza la recta de regresión para interpolar dos valores y extrapolar uno. Comenta estos resultados.\n",
        "12. Realice una tabla ANOVA e interprete el resultado.\n"
      ],
      "metadata": {
        "id": "fNYVSwWjchRu"
      }
    },
    {
      "cell_type": "code",
      "source": [],
      "metadata": {
        "id": "A57YusZWQX8i"
      },
      "execution_count": null,
      "outputs": []
    },
    {
      "cell_type": "markdown",
      "source": [
        "### Problema 4\n",
        "Las ventas de línea blanca varían según el estado del mercado de casas nuevas: cuando las ventas de casas nuevas son buenas, también lo son las de lavaplatos, lavadoras de ropa, secadoras y refrigeradores.\n",
        "Una asociación de comercio compiló los siguientes datos históricos (en miles de unidades) de las ventas de línea blanca y la construcción de casas.\n",
        "\n",
        "| Construcción de casas (miles) | Ventas de línea blanca (miles) |\n",
        "|-------------------------------|--------------------------------|\n",
        "| 2.0                           | 5.0                            |\n",
        "| 2.5                           | 5.5                            |\n",
        "| 3.2                           | 6.0                            |\n",
        "| 3.6                           | 7.0                            |\n",
        "| 3.7                           | 7.2                            |\n",
        "| 4.0                           | 7.7                            |\n",
        "| 4.2                           | 8.4                            |\n",
        "| 4.6                           | 9.0                            |\n",
        "| 4.8                           | 9.7                            |\n",
        "| 5.0                           | 10.0                           |\n",
        "\n",
        "1.   Establesca una variable dependiente ($Y$) y una variable independiente ($X$).\n",
        "2.   Realice un diagrama de dispersión para estos datos.\n",
        "3. ¿Los datos soportan la suposición de linealidad?\n",
        "4. Calcule el coeficiente de correlación e interprete el resultado.\n",
        "5. Calcule el coeficiente de determinación e interprete el resultado.\n",
        "6. Obtenga la recta de regresión ajustada y grafíquelo sobre el gráfico de dispersión.\n",
        "7. Obtenga un intervalo de confianza del 95% para la pendiente de la recta de regresión ajustada ($b_1$)\n",
        "8. Calcule los residuales y trace un nuevo gráfico de dispersión. Comente, ¿Parece que se verifican los supuestos?\n",
        "9. Realice la prueba de Shapiro para los residuales y comente el resultado.\n",
        "10. Realice la prueba de Brausch-Pagan para los residuales y comente el resultado.\n",
        "11. Utiliza la recta de regresión para interpolar dos valores y extrapolar uno. Comenta estos resultados.\n",
        "12. Realice una tabla ANOVA e interprete el resultado."
      ],
      "metadata": {
        "id": "9-_ZpHNattbm"
      }
    },
    {
      "cell_type": "code",
      "source": [],
      "metadata": {
        "id": "GPjzAEM-t34D"
      },
      "execution_count": null,
      "outputs": []
    },
    {
      "cell_type": "markdown",
      "source": [
        "### Problema 5\n",
        "William C. Andrews, consultor de comportamiento organizacional de Victory Motorcycles, ha diseñado una prueba para mostrar a los supervisores de la compañía los peligros de sobrevigilar a sus trabajadores.\n",
        "Un trabajador de la línea de ensamble tiene a su cargo una serie de tareas complicadas. Durante el desempeño del trabajador, un inspector lo interrumpe constantemente para ayudarlo a terminar las tareas.\n",
        "El trabajador, después de terminar su trabajo, recibe una prueba psicológica diseñada para medir la hostilidad del trabajador hacia la autoridad\n",
        "(una alta puntuación implica una hostilidad baja). A ocho distintos trabajadores se les asignaron las tareas y luego se les interrumpió para darles instrucciones útiles un número variable de veces (línea X).\n",
        "Sus calificaciones en la prueba de hostilidad se dan en el renglón Y.\n",
        "\n",
        "| número interrupciones al trabajador |  5  | 10  | 10  | 15  | 15  | 20  | 20  | 25  |\n",
        "|-----------------------------------------|----|----|----|----|----|----|----|----|\n",
        "| calificación del trabajador en la prueba de hostilidad | 58  | 41  | 45  | 27  | 26  | 12  | 16  |  3  |\n",
        "\n",
        "1.   Establesca una variable dependiente ($Y$) y una variable independiente ($X$).\n",
        "2.   Realice un diagrama de dispersión para estos datos.\n",
        "3. ¿Los datos soportan la suposición de linealidad?\n",
        "4. Calcule el coeficiente de correlación e interprete el resultado.\n",
        "5. Calcule el coeficiente de determinación e interprete el resultado.\n",
        "6. Obtenga la recta de regresión ajustada y grafíquelo sobre el gráfico de dispersión.\n",
        "7. Obtenga un intervalo de confianza del 95% para la pendiente de la recta de regresión ajustada ($b_1$)\n",
        "8. Calcule los residuales y trace un nuevo gráfico de dispersión. Comente, ¿Parece que se verifican los supuestos?\n",
        "9. Realice la prueba de Shapiro para los residuales y comente el resultado.\n",
        "10. Realice la prueba de Brausch-Pagan para los residuales y comente el resultado.\n",
        "11. Utiliza la recta de regresión para interpolar dos valores y extrapolar uno. Comenta estos resultados.\n",
        "12. Realice una tabla ANOVA e interprete el resultado."
      ],
      "metadata": {
        "id": "x6oH2vATt4Sm"
      }
    },
    {
      "cell_type": "code",
      "source": [],
      "metadata": {
        "id": "5nsXczRfulp8"
      },
      "execution_count": null,
      "outputs": []
    }
  ]
}